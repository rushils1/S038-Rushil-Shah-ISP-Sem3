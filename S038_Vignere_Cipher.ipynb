{
  "nbformat": 4,
  "nbformat_minor": 0,
  "metadata": {
    "colab": {
      "provenance": []
    },
    "kernelspec": {
      "name": "python3",
      "display_name": "Python 3"
    },
    "language_info": {
      "name": "python"
    }
  },
  "cells": [
    {
      "cell_type": "markdown",
      "source": [
        "Vigenere Cipher is a method of encrypting alphabetic text. It uses a simple form of polyalphabetic substitution. A polyalphabetic cipher is any cipher based on substitution, using multiple substitution alphabets. The encryption of the original text is done using the Vigenère square or Vigenère table.\n",
        "\n",
        "The table consists of the alphabets written out 26 times in different rows, each alphabet shifted cyclically to the left compared to the previous alphabet, corresponding to the 26 possible Caesar Ciphers. At different points in the encryption process, the cipher uses a different alphabet from one of the rows. The alphabet used at each point depends on a repeating keyword.\n"
      ],
      "metadata": {
        "id": "Aq5Xab3W0onO"
      }
    },
    {
      "cell_type": "code",
      "source": [
        "string = \"GEEKSFORGEEKS\"\n",
        "keyword = \"RUSHIL\""
      ],
      "metadata": {
        "id": "o2bqBZ8W0XWi"
      },
      "execution_count": 36,
      "outputs": []
    },
    {
      "cell_type": "code",
      "source": [
        "def generateKey(string, key):\n",
        "    key = list(key)\n",
        "    if len(string) == len(key):\n",
        "        return(key)\n",
        "    else:\n",
        "        for i in range(len(string) - len(key)):\n",
        "            key.append(key[i % len(key)])\n",
        "    return(\"\" . join(key))\n"
      ],
      "metadata": {
        "id": "BNLbk9GG1G2Z"
      },
      "execution_count": 37,
      "outputs": []
    },
    {
      "cell_type": "code",
      "source": [
        "def encrypt_cipherText(string, key):\n",
        "    cipher_text = []\n",
        "    for i in range(len(string)):\n",
        "        x = ((ord(string[i]) + ord(key[i])) % 26)+ord('A')\n",
        "        cipher_text.append(chr(x))\n",
        "    return(\"\" . join(cipher_text))"
      ],
      "metadata": {
        "id": "mreF7Av51LNF"
      },
      "execution_count": 38,
      "outputs": []
    },
    {
      "cell_type": "code",
      "source": [
        "key = generateKey(string, keyword)"
      ],
      "metadata": {
        "id": "MuTStxCE1OGr"
      },
      "execution_count": 39,
      "outputs": []
    },
    {
      "cell_type": "code",
      "source": [
        "print(\"Original Message\",string)\n",
        "print(\"Keyword:\", keyword)\n",
        "cipher_text = encrypt_cipherText(string,key)\n",
        "print(\"Ciphertext :\", cipher_text)"
      ],
      "metadata": {
        "colab": {
          "base_uri": "https://localhost:8080/"
        },
        "id": "mjm979-01RIc",
        "outputId": "97c8055a-390f-4ab7-b304-b1aef63a64fc"
      },
      "execution_count": 40,
      "outputs": [
        {
          "output_type": "stream",
          "name": "stdout",
          "text": [
            "Original Message GEEKSFORGEEKS\n",
            "Keyword: RUSHIL\n",
            "Ciphertext : XYWRAQFLYLMVJ\n"
          ]
        }
      ]
    },
    {
      "cell_type": "code",
      "source": [
        "def decrypt_originalText(cipher_text, key):\n",
        "    orig_text = []\n",
        "    for i in range(len(cipher_text)):\n",
        "        x =( (ord(cipher_text[i]) - ord(key[i])) % 26 ) +ord('A')\n",
        "        orig_text.append(chr(x))\n",
        "    return(\"\" . join(orig_text))\n"
      ],
      "metadata": {
        "id": "h0XuWsij1Vv7"
      },
      "execution_count": 41,
      "outputs": []
    },
    {
      "cell_type": "code",
      "source": [
        "key = generateKey(string, keyword)\n"
      ],
      "metadata": {
        "id": "PDuZm10O1sTw"
      },
      "execution_count": 42,
      "outputs": []
    },
    {
      "cell_type": "code",
      "source": [
        "cipher_text = encrypt_cipherText(string,key)\n"
      ],
      "metadata": {
        "id": "4c33e7AM1wgE"
      },
      "execution_count": 43,
      "outputs": []
    },
    {
      "cell_type": "code",
      "source": [
        "print(\"Ciphertext :\", cipher_text)\n",
        "print(\"Original/Decrypted Text :\",decrypt_originalText(cipher_text, key))"
      ],
      "metadata": {
        "colab": {
          "base_uri": "https://localhost:8080/"
        },
        "id": "tg7nXJxH1y7f",
        "outputId": "130ecc50-c1e2-4a6b-febb-7a03516c10d8"
      },
      "execution_count": 44,
      "outputs": [
        {
          "output_type": "stream",
          "name": "stdout",
          "text": [
            "Ciphertext : XYWRAQFLYLMVJ\n",
            "Original/Decrypted Text : GEEKSFORGEEKS\n"
          ]
        }
      ]
    }
  ]
}