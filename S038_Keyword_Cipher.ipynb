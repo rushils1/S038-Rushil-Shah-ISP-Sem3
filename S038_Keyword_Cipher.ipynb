{
  "nbformat": 4,
  "nbformat_minor": 0,
  "metadata": {
    "colab": {
      "provenance": []
    },
    "kernelspec": {
      "name": "python3",
      "display_name": "Python 3"
    },
    "language_info": {
      "name": "python"
    }
  },
  "cells": [
    {
      "cell_type": "markdown",
      "source": [
        "Keyword cipher is a form of monoalphabetic substitution. A keyword is used as the key, and it determines the letter matchings of the cipher alphabet to the plain alphabet. Repeats of letters in the word are removed, then the cipher alphabet is generated with the keyword matching to A, B, C, etc. until the keyword is used up, whereupon the rest of the ciphertext letters are used in alphabetical order, excluding those already used in the key."
      ],
      "metadata": {
        "id": "PE83UM8Sy6Xn"
      }
    },
    {
      "cell_type": "code",
      "source": [
        "# Python program for encoding the string\n",
        "message = \"Attack at dawn\"\n",
        "keyword = \"Star War\"\n",
        "ciphertext = \"\""
      ],
      "metadata": {
        "id": "lVv861S7y3PO"
      },
      "execution_count": 18,
      "outputs": []
    },
    {
      "cell_type": "code",
      "source": [
        "#stores all upper case alphabets\n",
        "all_alphabets = []\n",
        "for i in range(65,91):\n",
        "\tall_alphabets.append(chr(i))\n",
        " \n",
        "print(all_alphabets)"
      ],
      "metadata": {
        "colab": {
          "base_uri": "https://localhost:8080/"
        },
        "id": "rUug0RwZzBU8",
        "outputId": "96e479c7-2d5e-4b4c-ed0d-3219dd1b0c94"
      },
      "execution_count": 19,
      "outputs": [
        {
          "output_type": "stream",
          "name": "stdout",
          "text": [
            "['A', 'B', 'C', 'D', 'E', 'F', 'G', 'H', 'I', 'J', 'K', 'L', 'M', 'N', 'O', 'P', 'Q', 'R', 'S', 'T', 'U', 'V', 'W', 'X', 'Y', 'Z']\n"
          ]
        }
      ]
    },
    {
      "cell_type": "code",
      "source": [
        "# converts message to list\n",
        "msg = []\n",
        "for i in message:\n",
        "    msg.append(i.upper())\n",
        "\n",
        " \n",
        "#msg = [x.upper() for x in messa"
      ],
      "metadata": {
        "id": "gkoHDwAozGAU"
      },
      "execution_count": 20,
      "outputs": []
    },
    {
      "cell_type": "code",
      "source": [
        "print(msg)\n"
      ],
      "metadata": {
        "colab": {
          "base_uri": "https://localhost:8080/"
        },
        "id": "u1dABdSGzI4z",
        "outputId": "996de220-b2d7-4e89-e81c-59bf64cebbd3"
      },
      "execution_count": 21,
      "outputs": [
        {
          "output_type": "stream",
          "name": "stdout",
          "text": [
            "['A', 'T', 'T', 'A', 'C', 'K', ' ', 'A', 'T', ' ', 'D', 'A', 'W', 'N']\n"
          ]
        }
      ]
    },
    {
      "cell_type": "code",
      "source": [
        "keyword1 = keyword.upper()\n"
      ],
      "metadata": {
        "id": "N9KVmsQczKmx"
      },
      "execution_count": 22,
      "outputs": []
    },
    {
      "cell_type": "code",
      "source": [
        "# removes default elements\n",
        "# remove duplicates\n",
        "def duplicates(list):\n",
        "\tkey = []\n",
        "\tfor i in list:\n",
        "\t\tif i not in key:\n",
        "\t\t\tkey.append(i)\n",
        "        \n",
        "\treturn key"
      ],
      "metadata": {
        "id": "F09UiXDlzMT1"
      },
      "execution_count": 23,
      "outputs": []
    },
    {
      "cell_type": "code",
      "source": [
        "# key = []\n",
        "# [key.append(x) for x in keyword1 if x not in key]\n",
        "\n",
        "keyword1 = duplicates(keyword1)\n",
        "print(\"keyword after removing duplicate\",keyword1)\n",
        "\n",
        "# Stores the encryption list\n",
        "encrypting = duplicates(keyword1+all_alphabets)\n",
        "print(\"Enctyptig text is\",encrypting)\n",
        "\n",
        "#removes spaces from the encryption list\n",
        "for i in encrypting:\n",
        "\tif(i == ' '):\n",
        "\t\tencrypting.remove(' ')\n",
        "\n",
        "\n",
        "print(\"Enctyptig text is\",encrypting)"
      ],
      "metadata": {
        "colab": {
          "base_uri": "https://localhost:8080/"
        },
        "id": "phM6w9s2zOUP",
        "outputId": "18d82368-4061-4846-da58-9424593162bb"
      },
      "execution_count": 24,
      "outputs": [
        {
          "output_type": "stream",
          "name": "stdout",
          "text": [
            "keyword after removing duplicate ['S', 'T', 'A', 'R', ' ', 'W']\n",
            "Enctyptig text is ['S', 'T', 'A', 'R', ' ', 'W', 'B', 'C', 'D', 'E', 'F', 'G', 'H', 'I', 'J', 'K', 'L', 'M', 'N', 'O', 'P', 'Q', 'U', 'V', 'X', 'Y', 'Z']\n",
            "Enctyptig text is ['S', 'T', 'A', 'R', 'W', 'B', 'C', 'D', 'E', 'F', 'G', 'H', 'I', 'J', 'K', 'L', 'M', 'N', 'O', 'P', 'Q', 'U', 'V', 'X', 'Y', 'Z']\n"
          ]
        }
      ]
    },
    {
      "cell_type": "code",
      "source": [
        "# maps each element of the message to the encryption list and stores it in ciphertext\n",
        "for i in range(len(msg)):\n",
        "\tif(msg[i] != ' '):\n",
        "\t\tciphertext = ciphertext+encrypting[all_alphabets.index(msg[i])]\n",
        "\telse:\n",
        "\t\tciphertext = ciphertext+' '\n"
      ],
      "metadata": {
        "id": "IqKBc1tMzSRw"
      },
      "execution_count": 25,
      "outputs": []
    },
    {
      "cell_type": "code",
      "source": [
        "print(\"Keyword : \", keyword)\n",
        "print(\"Message before Ciphering : \", message)\n",
        "print(\"Ciphered Text : \", ciphertext)"
      ],
      "metadata": {
        "colab": {
          "base_uri": "https://localhost:8080/"
        },
        "id": "fI57GgUdzUxL",
        "outputId": "21c128ed-e494-4f05-c027-2584cbf9a35c"
      },
      "execution_count": 26,
      "outputs": [
        {
          "output_type": "stream",
          "name": "stdout",
          "text": [
            "Keyword :  Star War\n",
            "Message before Ciphering :  Attack at dawn\n",
            "Ciphered Text :  SPPSAG SP RSVJ\n"
          ]
        }
      ]
    },
    {
      "cell_type": "markdown",
      "source": [
        "**Keyword Cipher Encryption**"
      ],
      "metadata": {
        "id": "Cbm59fvPzghC"
      }
    },
    {
      "cell_type": "code",
      "source": [
        "# Python program for encoding the string\n",
        "message = \"Attack at dawn\"\n",
        "keyword = \"Star War\"\n",
        "ciphertext = \"\""
      ],
      "metadata": {
        "id": "ae4K34ruzYdW"
      },
      "execution_count": 27,
      "outputs": []
    },
    {
      "cell_type": "code",
      "source": [
        "# removes default elements\n",
        "# remove duplicates\n",
        "def duplicates(list):\n",
        "  key = []\n",
        "  for i in list:\n",
        "    if i not in key:\n",
        "      key.append(i)\n",
        "        \n",
        "  return key"
      ],
      "metadata": {
        "id": "VTBiCf9Gzq6t"
      },
      "execution_count": 28,
      "outputs": []
    },
    {
      "cell_type": "code",
      "source": [
        "def keyword_encrypt(keyword,message):\n",
        "  # Python program for encoding the string\n",
        "  ciphertext = \"\"\n",
        "\n",
        "  # stores all upper case alphabets\n",
        "  all_alphabets = []\n",
        "  for i in range(97,123):\n",
        "    all_alphabets.append(chr(i).upper())\n",
        "\n",
        "  # converts message to list\n",
        "  msg = []\n",
        "  for i in message:\n",
        "      msg.append(i.upper())\n",
        "      \n",
        "  #msg = [x.upper() for x in message]\n",
        "\n",
        "  keyword1 = keyword.upper()\n",
        "\n",
        "  keyword1 = duplicates(keyword1)\n",
        "  #print(\"keyword after removing duplicate\",keyword1)\n",
        "\n",
        "  # Stores the encryption list\n",
        "  encrypting = duplicates(keyword1+all_alphabets)\n",
        "  #print(\"Enctyptig text is\",encrypting)\n",
        "\n",
        "  #removes spaces from the encryption list\n",
        "  for i in encrypting:\n",
        "    if(i == ' '):\n",
        "      encrypting.remove(' ')\n",
        "\n",
        "  # maps each element of the message to the encryption list and stores it in ciphertext\n",
        "  for i in range(len(msg)):\n",
        "    if(msg[i] != ' '):\n",
        "      ciphertext = ciphertext+encrypting[all_alphabets.index(msg[i])]\n",
        "    else:\n",
        "      ciphertext = ciphertext+' '\n",
        "\n",
        "  return ciphertext"
      ],
      "metadata": {
        "id": "Vb6BoIbuzs3h"
      },
      "execution_count": 29,
      "outputs": []
    },
    {
      "cell_type": "code",
      "source": [
        "print(\"Keyword : \", keyword)\n",
        "print(\"Message before Ciphering : \", message)\n",
        "print(\"Ciphered Text : \", keyword_encrypt(keyword,message))"
      ],
      "metadata": {
        "colab": {
          "base_uri": "https://localhost:8080/"
        },
        "id": "egqmDpwmzxcK",
        "outputId": "8d577610-6f14-45c2-cc3d-5548bfb2f2bc"
      },
      "execution_count": 30,
      "outputs": [
        {
          "output_type": "stream",
          "name": "stdout",
          "text": [
            "Keyword :  Star War\n",
            "Message before Ciphering :  Attack at dawn\n",
            "Ciphered Text :  SPPSAG SP RSVJ\n"
          ]
        }
      ]
    },
    {
      "cell_type": "markdown",
      "source": [
        "**Keyword Cipher Decryption**"
      ],
      "metadata": {
        "id": "c3xOksOIz5SR"
      }
    },
    {
      "cell_type": "code",
      "source": [
        "# Python program for encoding the string\n",
        "message = \"\"\n",
        "keyword = \"Star War\"\n",
        "ciphertext = \"SPPSAG SP RSVJ\""
      ],
      "metadata": {
        "id": "ob16n2-Kz2He"
      },
      "execution_count": 31,
      "outputs": []
    },
    {
      "cell_type": "code",
      "source": [
        "def duplicates(list):\n",
        "\tkey = []\n",
        "\tfor i in list:\n",
        "\t\tif i not in key:\n",
        "\t\t\tkey.append(i)\n",
        "\n",
        "\treturn key"
      ],
      "metadata": {
        "id": "EbeQMnZ2z-TJ"
      },
      "execution_count": 32,
      "outputs": []
    },
    {
      "cell_type": "code",
      "source": [
        "def keyword_decrypt(keyword,message):\n",
        "  # Python program for encoding the string\n",
        "  message = \"\"\n",
        "\n",
        "  # stores all upper case alphabets\n",
        "  all_alphabets = []\n",
        "  for i in range(65,91):\n",
        "    all_alphabets.append(chr(i))\n",
        " \n",
        "\n",
        "  # converts message to list\n",
        "  ct = []\n",
        "  for i in ciphertext:\n",
        "      ct.append(i.upper())\n",
        "      \n",
        "  #msg = [x.upper() for x in message]\n",
        "\n",
        "  keyword1 = keyword.upper()\n",
        "\n",
        "  keyword1 = duplicates(keyword1)\n",
        " # print(\"keyword after removing duplicate\",keyword1)\n",
        "\n",
        "  # Stores the encryption list\n",
        "  encrypting = duplicates(keyword1+all_alphabets)\n",
        "  #print(\"Enctyptig text is\",encrypting)\n",
        "\n",
        "  #removes spaces from the encryption list\n",
        "  for i in encrypting:\n",
        "    if(i == ' '):\n",
        "      encrypting.remove(' ')\n",
        "\n",
        "  # maps each element of the message to the encryption list and stores it in ciphertext\n",
        "  for i in range(len(ct)):\n",
        "    if(ct[i] != ' '):\n",
        "      message = message+all_alphabets[encrypting.index(ct[i])]\n",
        "    else:\n",
        "      message = message+' '\n",
        "\n",
        "  return message"
      ],
      "metadata": {
        "id": "e8Xe_dcn0AYE"
      },
      "execution_count": 33,
      "outputs": []
    },
    {
      "cell_type": "code",
      "source": [
        "print(\"Keyword : \", keyword)\n",
        "print(\"Ciphered Text : \", ciphertext)\n",
        "print(\"Message before Ciphering : \", keyword_decrypt(keyword,message))"
      ],
      "metadata": {
        "colab": {
          "base_uri": "https://localhost:8080/"
        },
        "id": "Uy2JoZp60DsR",
        "outputId": "ae90701d-02e0-4e41-daca-9223d3282907"
      },
      "execution_count": 34,
      "outputs": [
        {
          "output_type": "stream",
          "name": "stdout",
          "text": [
            "Keyword :  Star War\n",
            "Ciphered Text :  SPPSAG SP RSVJ\n",
            "Message before Ciphering :  ATTACK AT DAWN\n"
          ]
        }
      ]
    },
    {
      "cell_type": "code",
      "source": [],
      "metadata": {
        "id": "6aqFYSEl0I0X"
      },
      "execution_count": null,
      "outputs": []
    }
  ]
}