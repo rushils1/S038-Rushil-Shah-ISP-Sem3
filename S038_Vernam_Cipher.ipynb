{
  "nbformat": 4,
  "nbformat_minor": 0,
  "metadata": {
    "colab": {
      "provenance": []
    },
    "kernelspec": {
      "name": "python3",
      "display_name": "Python 3"
    },
    "language_info": {
      "name": "python"
    }
  },
  "cells": [
    {
      "cell_type": "markdown",
      "source": [
        "Vernam Cipher is a method of encrypting alphabetic text. It is one of the Substitution techniques for converting a plain text into a cipher text. In this mechanism we assign a number to each character of the Plain-Text, like (a = 0, b = 1, c = 2, … z = 25).\n",
        "\n",
        "**Method to take key:** In Vernam cipher algorithm, we take a key to encrypt the plain text which length should be equal to the length of the plain text.\n",
        "\n",
        "**Encryption Algorithm:**\n",
        "\n",
        "Assign a number to each character of the plain-text and the key according to alphabetical order.\n",
        "Add both the number (Corresponding plain-text character number and Key character number).\n",
        "Subtract the number from 26 if the added number is greater than 26, if it isn’t then leave it.\n"
      ],
      "metadata": {
        "id": "DpPZiZUrsS-e"
      }
    },
    {
      "cell_type": "code",
      "execution_count": 10,
      "metadata": {
        "id": "MC4BhFimz2Bk",
        "colab": {
          "base_uri": "https://localhost:8080/"
        },
        "outputId": "2cdf8e08-6d91-4f0b-e31c-d8f53db1a789"
      },
      "outputs": [
        {
          "name": "stdout",
          "output_type": "stream",
          "text": [
            "Enter the message: Good Morning\n",
            "Enter the one time pad: Quantam King\n"
          ]
        }
      ],
      "source": [
        "#STEP1 Getting Inputs\n",
        "plain_text=input(\"Enter the message: \")\n",
        "key=input(\"Enter the one time pad: \")\n",
        "cipher_text=''\n"
      ]
    },
    {
      "cell_type": "code",
      "source": [
        "#STEP2 Data clean : Replacing space and converting to lower\n",
        "plain_text=plain_text.replace(\" \",\"\")\n",
        "key=key.replace(\" \",\"\")\n",
        "plain_text=plain_text.lower()\n",
        "key=key.lower()\n"
      ],
      "metadata": {
        "id": "5gE2y5WBw4Wj"
      },
      "execution_count": 11,
      "outputs": []
    },
    {
      "cell_type": "code",
      "source": [
        "#CHECKING IF LENGTHs ARE EQUAL\n",
        "if(len(plain_text)!=len(key)):\n",
        "        print(\"Lengths are different\")\n",
        "else:\n",
        "  print(\"Lenght EquaL\")"
      ],
      "metadata": {
        "colab": {
          "base_uri": "https://localhost:8080/"
        },
        "id": "Wkc_fdmvw6hv",
        "outputId": "9575bd04-ca8d-44e6-c292-40188d3e451c"
      },
      "execution_count": 12,
      "outputs": [
        {
          "output_type": "stream",
          "name": "stdout",
          "text": [
            "Lenght EquaL\n"
          ]
        }
      ]
    },
    {
      "cell_type": "code",
      "source": [
        "#LOGIC \n",
        "cipher_text=\"\"\n",
        "        \n",
        "# iterating through the length\n",
        "for i in range(len(plain_text)):\n",
        "    k1=ord(plain_text[i])-97 #GETTING INPUT ASCCI VALUE for lower\n",
        "    k2=ord(key[i])-97        #GETTING KEY ASCCI VALUE for lower\n",
        "    s=chr((k1+k2)%26+97)     # (k1 + k2)%26 for lower\n",
        "    cipher_text+=s           # Concatenate each otput\n",
        "print(\"Enrypted message is: \",cipher_text)"
      ],
      "metadata": {
        "colab": {
          "base_uri": "https://localhost:8080/"
        },
        "id": "_ddaNAxsw--x",
        "outputId": "cce384d8-fa01-48bd-b0fa-f848b69182ac"
      },
      "execution_count": 13,
      "outputs": [
        {
          "output_type": "stream",
          "name": "stdout",
          "text": [
            "Enrypted message is:  wioqfodxqam\n"
          ]
        }
      ]
    },
    {
      "cell_type": "markdown",
      "source": [
        "**Vernam Cipher Encrytion**"
      ],
      "metadata": {
        "id": "7PI3ZrofxF0e"
      }
    },
    {
      "cell_type": "code",
      "source": [
        "# function to apply algo of vernam cipher\n",
        "def encrypt_vernam(plain_text,key):\n",
        "\n",
        "    # convert into lower cases and remove spaces\n",
        "    \n",
        "    plain_text=plain_text.replace(\" \",\"\")\n",
        "    key=key.replace(\" \",\"\")\n",
        "    plain_text=plain_text.lower()\n",
        "    key=key.lower()\n",
        "    \n",
        "    # conditional statements\n",
        "    if(len(plain_text)!=len(key)):\n",
        "        print(\"Lengths are different\")\n",
        "        return print(\"Lengths are different\")\n",
        "        \n",
        "    else:\n",
        "        cipher_text=\"\"\n",
        "        # iterating through the length\n",
        "        for i in range(len(plain_text)):\n",
        "            k1=ord(plain_text[i])-97\n",
        "            k2=ord(key[i])-97\n",
        "            s=chr(((k1+k2))%26+97)\n",
        "            cipher_text+=s\n",
        "        return print(\"Enrypted message is: \",cipher_text)\n",
        "\n",
        "\n",
        "plain_text=input(\"Enter the message: \")\n",
        "key=input(\"Enter the one time pad: \")\n",
        "encrypt_vernam(plain_text,key)"
      ],
      "metadata": {
        "colab": {
          "base_uri": "https://localhost:8080/"
        },
        "id": "axKcn-J1xCSu",
        "outputId": "ca6b26bc-fcdf-4fe0-9342-2aa4805372e1"
      },
      "execution_count": 14,
      "outputs": [
        {
          "output_type": "stream",
          "name": "stdout",
          "text": [
            "Enter the message: GOOD MORNING\n",
            "Enter the one time pad: QUANTUM KING\n",
            "Enrypted message is:  wioqfidxqam\n"
          ]
        }
      ]
    },
    {
      "cell_type": "markdown",
      "source": [
        "**Vernam Cipher Decrytion**"
      ],
      "metadata": {
        "id": "5u9XuA4yxlH7"
      }
    },
    {
      "cell_type": "code",
      "source": [
        "# function to apply algo of vernam cipher\n",
        "def decrypt_vernam(plain_text,key):\n",
        "\n",
        "    # convert into lower cases and remove spaces\n",
        "    \n",
        "    plain_text=plain_text.replace(\" \",\"\")\n",
        "    key=key.replace(\" \",\"\")\n",
        "    plain_text=plain_text.lower()\n",
        "    key=key.lower()\n",
        "    \n",
        "    # conditional statements\n",
        "    if(len(plain_text)!=len(key)):\n",
        "        \n",
        "        return print(\"Lengths are different\")\n",
        "        \n",
        "    else:\n",
        "        cipher_text=\"\"\n",
        "        # iterating through the length\n",
        "        for i in range(len(plain_text)):\n",
        "            k1=ord(plain_text[i])-97\n",
        "            k2=ord(key[i])-97\n",
        "            s=chr(((k1-k2))%26+97)\n",
        "            cipher_text+=s\n",
        "          \n",
        "        return print(\"Enrypted message is: \",cipher_text)"
      ],
      "metadata": {
        "id": "PC-abMpGxWIR"
      },
      "execution_count": 16,
      "outputs": []
    },
    {
      "cell_type": "code",
      "source": [
        "plain_text=input(\"Enter the message: \")\n",
        "key=input(\"Enter the one time pad: \")\n",
        "decrypt_vernam(plain_text,key)"
      ],
      "metadata": {
        "colab": {
          "base_uri": "https://localhost:8080/"
        },
        "id": "iJjsuHXHxtLp",
        "outputId": "e35acda6-ee95-4eb9-8514-e0bab6543242"
      },
      "execution_count": 17,
      "outputs": [
        {
          "output_type": "stream",
          "name": "stdout",
          "text": [
            "Enter the message: wioqfidxqam\n",
            "Enter the one time pad: QUANTUM KING\n",
            "Enrypted message is:  goodmorning\n"
          ]
        }
      ]
    },
    {
      "cell_type": "code",
      "source": [],
      "metadata": {
        "id": "tzByJLhtxviu"
      },
      "execution_count": null,
      "outputs": []
    }
  ]
}