{
  "nbformat": 4,
  "nbformat_minor": 0,
  "metadata": {
    "colab": {
      "provenance": []
    },
    "kernelspec": {
      "name": "python3",
      "display_name": "Python 3"
    },
    "language_info": {
      "name": "python"
    }
  },
  "cells": [
    {
      "cell_type": "markdown",
      "source": [
        "The Diffie-Hellman algorithm is being used to establish a shared secret that can be used for secret communications while exchanging data over a public network using the elliptic curve to generate points and get the secret key using the parameters.  \n",
        "\n",
        "\n",
        "*   For the sake of simplicity and practical implementation of the algorithm, we will consider only 4 variables, one prime P and G (a primitive root of P) and two private values a and b.\n",
        "*  P and G are both publicly available numbers. Users (say Alice and Bob) pick private values a and b and they generate a key and exchange it publicly. The opposite person receives the key and that generates a secret key, after which they have the same secret key to encrypt."
      ],
      "metadata": {
        "id": "9EMTm4_52I5-"
      }
    },
    {
      "cell_type": "code",
      "source": [
        "print(\"Both Parties Agree To A Single Prime No.\")\n",
        "prime = int(input(\" Enter A Prime No To Be Considered : \"))\n",
        "print(\"Both Must Agree With A Single Primitive Root To Use\")\n",
        "root = int(input(\" Enter The Primitive Root : \"))\n"
      ],
      "metadata": {
        "colab": {
          "base_uri": "https://localhost:8080/"
        },
        "id": "S-5c1oT8262O",
        "outputId": "39c11faa-3c11-46ee-e278-c1e2515cbe55"
      },
      "execution_count": 4,
      "outputs": [
        {
          "name": "stdout",
          "output_type": "stream",
          "text": [
            "Both Parties Agree To A Single Prime No.\n",
            " Enter A Prime No To Be Considered : 31\n",
            "Both Must Agree With A Single Primitive Root To Use\n",
            " Enter The Primitive Root : 15\n"
          ]
        }
      ]
    },
    {
      "cell_type": "code",
      "source": [
        "alicesecret = int(input(\"Enter A Secret No From User 1 : \"))\n",
        "bobsecret = int(input(\"Enter A Secret no From User 2 : \"))\n",
        "print('\\n')"
      ],
      "metadata": {
        "colab": {
          "base_uri": "https://localhost:8080/"
        },
        "id": "Gclsn2s72_Tn",
        "outputId": "08c39f77-def6-4e4a-dd68-bac1cc6db261"
      },
      "execution_count": 5,
      "outputs": [
        {
          "output_type": "stream",
          "name": "stdout",
          "text": [
            "Enter A Secret No From User 1 : 5\n",
            "Enter A Secret no From User 2 : 98\n",
            "\n",
            "\n"
          ]
        }
      ]
    },
    {
      "cell_type": "code",
      "source": [
        "print(\"Party1's Public Key -> A = root^alicesecre*mod(prime))\")\n",
        "alicepublic = (root**alicesecret)%prime\n",
        "print(\"Party1's Public Key Is : \", alicepublic, \"\\n\")\n",
        "\n",
        "print(\"Party2's Public Key -> A = root^bobsecre*mod(prime))\")\n",
        "bobpublic = (root**bobsecret)%prime\n",
        "print(\"Party2's Public Key Is : \", bobpublic, \"\\n\")"
      ],
      "metadata": {
        "colab": {
          "base_uri": "https://localhost:8080/"
        },
        "id": "vSAjkA9_3N_K",
        "outputId": "66c6da14-24b4-4003-d04c-818c73512bc6"
      },
      "execution_count": 6,
      "outputs": [
        {
          "output_type": "stream",
          "name": "stdout",
          "text": [
            "Party1's Public Key -> A = root^alicesecre*mod(prime))\n",
            "Party1's Public Key Is :  30 \n",
            "\n",
            "Party2's Public Key -> A = root^bobsecre*mod(prime))\n",
            "Party2's Public Key Is :  4 \n",
            "\n"
          ]
        }
      ]
    }
  ]
}